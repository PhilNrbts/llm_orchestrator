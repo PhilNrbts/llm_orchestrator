{
 "cells": [
  {
   "cell_type": "markdown",
   "metadata": {},
   "source": [
    "# LLM Orchestrator Setup\n",
    "\n",
    "This notebook guides you through setting up the LLM Orchestrator. It will help you build the required Docker image and create a secure vault for your API keys.\n",
    "\n",
    "**Instructions:** Run each cell in order by clicking the 'Run' button or pressing `Shift+Enter`."
   ]
  },
  {
   "cell_type": "markdown",
   "metadata": {},
   "source": [
    "## Step 1: Build the Docker Image\n",
    "\n",
    "This command builds the `llm-orchestrator` Docker image from the `Dockerfile`. This process packages all the necessary code and dependencies into a self-contained image. It may take a few minutes to complete."
   ]
  },
  {
   "cell_type": "code",
   "execution_count": null,
   "metadata": {},
   "outputs": [],
   "source": [
    "!docker build -t llm-orchestrator ."
   ]
  },
  {
   "cell_type": "markdown",
   "metadata": {},
   "source": [
    "## Step 2: Initialize the Secure Vault\n",
    "\n",
    "This command runs the interactive vault setup script. You will be prompted to enter your API keys and set a master password. The keys are stored in an encrypted file named `vault.enc`."
   ]
  },
  {
   "cell_type": "code",
   "execution_count": null,
   "metadata": {},
   "outputs": [],
   "source": [
    "!docker run -it --rm -v \"${PWD}:/app\" llm-orchestrator python app/init_vault.py"
   ]
  },
  {
   "cell_type": "markdown",
   "metadata": {},
   "source": [
    "## Step 3: Run the Service\n",
    "\n",
    "Congratulations! Your setup is complete. The command below will start the LLM Orchestrator service in the background.\n",
    "\n",
    "You can run this cell to start the service, or copy and paste the command into your terminal."
   ]
  },
  {
   "cell_type": "code",
   "execution_count": null,
   "metadata": {},
   "outputs": [],
   "source": [
    "!docker run -d --name llm-engine -p 8000:8000 -v \"${PWD}/vault.enc:/vault.enc\" -v \"${PWD}/models.yaml:/models.yaml\" -v \"${PWD}/workspace:/workspace\" --rm llm-orchestrator"
   ]
  },
  {
   "cell_type": "markdown",
   "metadata": {},
   "source": [
    "## Step 4: Test the Endpoint\n",
    "\n",
    "After waiting a few seconds for the server to start, you can run the `curl` command below to test the service. Make sure to replace `your-vault-password` with the master password you set in Step 2."
   ]
  },
  {
   "cell_type": "code",
   "execution_count": null,
   "metadata": {},
   "outputs": [],
   "source": [
    "# Note: You may need to run this cell twice if the server is still starting up.\n",
    "!sleep 2 && curl -X POST http://localhost:8000/query -H \"Content-Type: application/json\" -d '{\"prompt\": \"Hello\", \"password\": \"your-vault-password\", \"mode\": \"parallel\"}'"
   ]
  },
  {
   "cell_type": "markdown",
   "metadata": {},
   "source": [
    "## (Optional) Stop the Service\n",
    "\n",
    "You can stop the running container with the following command:"
   ]
  },
  {
   "cell_type": "code",
   "execution_count": null,
   "metadata": {},
   "outputs": [],
   "source": [
    "!docker stop llm-engine"
   ]
  }
 ],
 "metadata": {
  "kernelspec": {
   "display_name": "Python 3",
   "language": "python",
   "name": "python3"
  },
  "language_info": {
   "name": "python",
   "version": "3.11.0"
  }
 },
 "nbformat": 4,
 "nbformat_minor": 2
}